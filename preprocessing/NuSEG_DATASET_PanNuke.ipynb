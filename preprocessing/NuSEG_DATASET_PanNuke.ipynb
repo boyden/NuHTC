{
 "cells": [
  {
   "cell_type": "code",
   "execution_count": null,
   "id": "43da9692",
   "metadata": {},
   "outputs": [],
   "source": [
    "# PanNuke"
   ]
  },
  {
   "cell_type": "code",
   "execution_count": null,
   "id": "9f27c3ff",
   "metadata": {},
   "outputs": [],
   "source": [
    "import numpy as np\n",
    "from PIL import Image\n",
    "import os, json, glob, shutil, random, cv2\n",
    "import matplotlib.pyplot as plt\n",
    "import skimage\n",
    "from skimage.measure import regionprops, find_contours, label\n",
    "from pycocotools import mask\n",
    "from pycocotools.coco import COCO\n",
    "import matplotlib.pyplot as plt"
   ]
  },
  {
   "cell_type": "code",
   "execution_count": null,
   "id": "406e1873",
   "metadata": {},
   "outputs": [],
   "source": [
    "# PanNuke dataset dir\n",
    "basedir = 'PanNuke'"
   ]
  },
  {
   "cell_type": "code",
   "execution_count": null,
   "id": "5ca542f8",
   "metadata": {},
   "outputs": [],
   "source": [
    "MAIN_CLASSES = ('Neoplastic cells', 'Inflammatory', 'Connective/Soft tissue cells', 'Dead Cells', 'Epithelial')\n",
    "main_cls_arr = []\n",
    "for i in range(len(MAIN_CLASSES)):\n",
    "    cls_dict = {'id': i, 'name':MAIN_CLASSES[i]}\n",
    "    main_cls_arr.append(cls_dict)"
   ]
  },
  {
   "cell_type": "code",
   "execution_count": null,
   "id": "89e539a6",
   "metadata": {},
   "outputs": [],
   "source": [
    "# Prepare rgb image\n",
    "for fold in range(3):\n",
    "    imgdir = f'{basedir}/images/fold{fold+1}'\n",
    "    img_data = np.load(f'{imgdir}/images.npy')\n",
    "    for i in range(img_data.shape[0]):\n",
    "        img = Image.fromarray(img_data[i].astype(np.uint8))\n",
    "        os.makedirs(f'{imgdir}/rgb', exist_ok=True)\n",
    "        if not os.path.exists(f'{imgdir}/rgb/{i+1}.png'):\n",
    "            img.convert('RGB').save(f'{imgdir}/rgb/{i+1}.png')"
   ]
  },
  {
   "cell_type": "code",
   "execution_count": null,
   "id": "d5cc6a94",
   "metadata": {},
   "outputs": [],
   "source": []
  },
  {
   "cell_type": "code",
   "execution_count": null,
   "id": "a617fd4d",
   "metadata": {},
   "outputs": [],
   "source": [
    "# Prepare rgb_seg image\n",
    "for fold in range(3):\n",
    "    imgdir = f'{basedir}/masks/fold{fold+1}'\n",
    "    img_data = np.load(f'{imgdir}/masks.npy')\n",
    "    for i in range(img_data.shape[0]):\n",
    "        img = 1 - img_data[i, :, :, 5]\n",
    "        img = Image.fromarray(img.astype(np.uint8))\n",
    "        os.makedirs(f'{imgdir}/rgb_seg', exist_ok=True)\n",
    "        if not os.path.exists(f'{imgdir}/rgb_seg/{i+1}.png'):\n",
    "            img.save(f'{imgdir}/rgb_seg/{i+1}.png')"
   ]
  },
  {
   "cell_type": "code",
   "execution_count": null,
   "id": "ae6322fa",
   "metadata": {},
   "outputs": [],
   "source": [
    "def annt_info(basedir, fold, keep_crowd=True):\n",
    "    imgdir = f'{basedir}/images/fold{fold+1}'\n",
    "    maskdir = f'{basedir}/masks/fold{fold+1}'\n",
    "    mask_data = np.load(f'{maskdir}/masks.npy')\n",
    "    type_data = np.load(f'{imgdir}/types.npy')\n",
    "\n",
    "    img_li = []\n",
    "    annt_li = []\n",
    "\n",
    "    annt_id = 1\n",
    "    for idx in range(mask_data.shape[0]):\n",
    "        mask_i = mask_data[idx, :, :, :-1]\n",
    "        h, w, _ = mask_i.shape\n",
    "        img_dict = {\n",
    "                    'fold':fold+1,\n",
    "                    'file_name': f'{idx+1}.png',\n",
    "                    'height': h,\n",
    "                    'width': w,\n",
    "                    'id': idx+1,\n",
    "                    'type': type_data[idx],\n",
    "                    'n_objects': len(np.unique(mask_i))-1\n",
    "                   }\n",
    "        img_li.append(img_dict)\n",
    "        \n",
    "        for catg_id in range(5):\n",
    "            tmp_mask = mask_i[:, :, catg_id]\n",
    "            annt_id_li = np.delete(np.unique(tmp_mask), 0)\n",
    "            if len(annt_id_li) != 0:\n",
    "                for inst_id in annt_id_li:\n",
    "                    tmp_inst_mask = np.array(tmp_mask == inst_id, dtype=np.uint8)\n",
    "                    RLE_inst = mask.encode(np.asfortranarray(tmp_inst_mask))\n",
    "                    RLE_inst['counts'] = RLE_inst['counts'].decode('ascii')\n",
    "                    bbox = mask.toBbox(RLE_inst).tolist()\n",
    "                    # bbox:[x, y, w, h]\n",
    "                    area = bbox[2]*bbox[3]\n",
    "                    segmentation = RLE_inst\n",
    "                    iscrowd = 0\n",
    "\n",
    "                    annt_dict = {\n",
    "                        'bbox': bbox,\n",
    "                        'area':area,\n",
    "                        'image_id': idx+1,\n",
    "                        'category_id':catg_id,\n",
    "                        'id':int(annt_id*3+fold),\n",
    "                        'iscrowd':iscrowd,\n",
    "                        'segmentation':segmentation, \n",
    "                    }\n",
    "                    annt_id+=1\n",
    "                    if not keep_crowd and iscrowd == 1:\n",
    "                        continue\n",
    "                    else:\n",
    "                        annt_li.append(annt_dict)\n",
    "    print(f'annt id num:{annt_id}')\n",
    "    return img_li, annt_li"
   ]
  },
  {
   "cell_type": "code",
   "execution_count": null,
   "id": "fc77bfee",
   "metadata": {},
   "outputs": [],
   "source": [
    "for fold in range(3):\n",
    "    print(f'Preprocessing fold:{fold+1}')\n",
    "    img_li, annt_li = annt_info(basedir, fold, keep_crowd=True)\n",
    "    fold_annt_json = {\n",
    "    'images': img_li,\n",
    "    'annotations': annt_li,\n",
    "    'categories': main_cls_arr\n",
    "    }\n",
    "    with open(f'{basedir}/PanNuke_annt_RLE_fold{fold+1}.json', 'w') as f:\n",
    "        json.dump(fold_annt_json, f)"
   ]
  },
  {
   "cell_type": "code",
   "execution_count": null,
   "id": "f35a1af6",
   "metadata": {},
   "outputs": [],
   "source": []
  }
 ],
 "metadata": {
  "kernelspec": {
   "display_name": "Python 3 (ipykernel)",
   "language": "python",
   "name": "python3"
  },
  "language_info": {
   "codemirror_mode": {
    "name": "ipython",
    "version": 3
   },
   "file_extension": ".py",
   "mimetype": "text/x-python",
   "name": "python",
   "nbconvert_exporter": "python",
   "pygments_lexer": "ipython3",
   "version": "3.8.13"
  },
  "toc": {
   "base_numbering": 1,
   "nav_menu": {},
   "number_sections": true,
   "sideBar": true,
   "skip_h1_title": false,
   "title_cell": "Table of Contents",
   "title_sidebar": "Contents",
   "toc_cell": false,
   "toc_position": {},
   "toc_section_display": true,
   "toc_window_display": false
  }
 },
 "nbformat": 4,
 "nbformat_minor": 5
}
